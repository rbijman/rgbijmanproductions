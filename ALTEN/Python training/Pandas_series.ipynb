{
 "cells": [
  {
   "cell_type": "markdown",
   "id": "3e58cea3-9e78-4369-8e78-87444edbebfa",
   "metadata": {},
   "source": [
    "# Pandas Series"
   ]
  },
  {
   "cell_type": "code",
   "execution_count": 1,
   "id": "ffb4b8a8-0748-4dc2-88c8-eac1459fc527",
   "metadata": {},
   "outputs": [],
   "source": [
    "import pandas as pd"
   ]
  },
  {
   "cell_type": "code",
   "execution_count": 2,
   "id": "56decc63-1628-4318-b0f2-185f20611da4",
   "metadata": {},
   "outputs": [],
   "source": [
    "titanic = pd.read_csv(\"Course_Materials/Course_Materials_Part1/Video_Lecture_NBs/titanic.csv\")"
   ]
  },
  {
   "cell_type": "code",
   "execution_count": 12,
   "id": "542ace6d-3a8f-4bae-ab71-dd82791ea63f",
   "metadata": {},
   "outputs": [],
   "source": [
    "age = titanic[\"age\"]"
   ]
  },
  {
   "cell_type": "code",
   "execution_count": 17,
   "id": "34366eca-a565-42ca-ac3e-719655770243",
   "metadata": {},
   "outputs": [
    {
     "data": {
      "text/plain": [
       "pandas.core.series.Series"
      ]
     },
     "execution_count": 17,
     "metadata": {},
     "output_type": "execute_result"
    }
   ],
   "source": [
    "type(age)"
   ]
  },
  {
   "cell_type": "code",
   "execution_count": 14,
   "id": "3e0c6c0f-0af1-4339-a253-ceab8406ea8e",
   "metadata": {},
   "outputs": [
    {
     "data": {
      "text/plain": [
       "dtype('float64')"
      ]
     },
     "execution_count": 14,
     "metadata": {},
     "output_type": "execute_result"
    }
   ],
   "source": [
    "age.dtype"
   ]
  },
  {
   "cell_type": "code",
   "execution_count": 16,
   "id": "f4b5f0ad-2862-4787-8be8-cdf72c847bb1",
   "metadata": {},
   "outputs": [
    {
     "name": "stdout",
     "output_type": "stream",
     "text": [
      "<class 'pandas.core.series.Series'>\n",
      "RangeIndex: 891 entries, 0 to 890\n",
      "Series name: age\n",
      "Non-Null Count  Dtype  \n",
      "--------------  -----  \n",
      "714 non-null    float64\n",
      "dtypes: float64(1)\n",
      "memory usage: 7.1 KB\n"
     ]
    }
   ],
   "source": [
    "age.info()"
   ]
  },
  {
   "cell_type": "code",
   "execution_count": 20,
   "id": "05cd7640-03ef-48e5-9791-a9b18904b5b4",
   "metadata": {},
   "outputs": [
    {
     "name": "stdout",
     "output_type": "stream",
     "text": [
      "<class 'pandas.core.frame.DataFrame'>\n",
      "RangeIndex: 891 entries, 0 to 890\n",
      "Data columns (total 1 columns):\n",
      " #   Column  Non-Null Count  Dtype  \n",
      "---  ------  --------------  -----  \n",
      " 0   age     714 non-null    float64\n",
      "dtypes: float64(1)\n",
      "memory usage: 7.1 KB\n"
     ]
    }
   ],
   "source": [
    "age.to_frame().info()"
   ]
  },
  {
   "cell_type": "code",
   "execution_count": 21,
   "id": "d7e3f211-8458-4e21-a221-31ed2e464840",
   "metadata": {},
   "outputs": [
    {
     "data": {
      "text/plain": [
       "count    714.000000\n",
       "mean      29.699118\n",
       "std       14.526497\n",
       "min        0.420000\n",
       "25%       20.125000\n",
       "50%       28.000000\n",
       "75%       38.000000\n",
       "max       80.000000\n",
       "Name: age, dtype: float64"
      ]
     },
     "execution_count": 21,
     "metadata": {},
     "output_type": "execute_result"
    }
   ],
   "source": [
    "age.describe()"
   ]
  },
  {
   "cell_type": "code",
   "execution_count": 22,
   "id": "afdcec6a-e587-4406-861e-2300b5f0f78a",
   "metadata": {},
   "outputs": [
    {
     "data": {
      "text/plain": [
       "714"
      ]
     },
     "execution_count": 22,
     "metadata": {},
     "output_type": "execute_result"
    }
   ],
   "source": [
    "age.count()"
   ]
  },
  {
   "cell_type": "code",
   "execution_count": 25,
   "id": "e84aa5a0-eb1c-455c-83ad-6ab0f2e9d223",
   "metadata": {},
   "outputs": [
    {
     "data": {
      "text/plain": [
       "891"
      ]
     },
     "execution_count": 25,
     "metadata": {},
     "output_type": "execute_result"
    }
   ],
   "source": [
    "age.size"
   ]
  },
  {
   "cell_type": "code",
   "execution_count": 24,
   "id": "f03fdc3f-dd82-487b-b848-88b74225fb7a",
   "metadata": {},
   "outputs": [
    {
     "data": {
      "text/plain": [
       "891"
      ]
     },
     "execution_count": 24,
     "metadata": {},
     "output_type": "execute_result"
    }
   ],
   "source": [
    "len(age)"
   ]
  },
  {
   "cell_type": "code",
   "execution_count": 39,
   "id": "07b55ccb-944b-42d4-bdc9-8e413c07f1bb",
   "metadata": {},
   "outputs": [
    {
     "name": "stdout",
     "output_type": "stream",
     "text": [
      "43\n"
     ]
    }
   ],
   "source": [
    "print(titanic[\"fare\"].value_counts().iloc[0])"
   ]
  },
  {
   "cell_type": "markdown",
   "id": "87abe2b3-8a08-473e-ae7d-e3822b276a04",
   "metadata": {},
   "source": [
    "## Analyzing non-numerical Series"
   ]
  },
  {
   "cell_type": "code",
   "execution_count": 59,
   "id": "52f0557b-6ad9-4b05-bc07-cb89a2366b14",
   "metadata": {},
   "outputs": [
    {
     "ename": "FileNotFoundError",
     "evalue": "[Errno 2] No such file or directory: 'Course_Materials/Course_Materials_Part1/Video_Lecture_NBs/summer1972.csv'",
     "output_type": "error",
     "traceback": [
      "\u001b[1;31m---------------------------------------------------------------------------\u001b[0m",
      "\u001b[1;31mFileNotFoundError\u001b[0m                         Traceback (most recent call last)",
      "Cell \u001b[1;32mIn[59], line 1\u001b[0m\n\u001b[1;32m----> 1\u001b[0m summer \u001b[38;5;241m=\u001b[39m pd\u001b[38;5;241m.\u001b[39mread_csv(\u001b[38;5;124m\"\u001b[39m\u001b[38;5;124mCourse_Materials/Course_Materials_Part1/Video_Lecture_NBs/summer1972.csv\u001b[39m\u001b[38;5;124m\"\u001b[39m)\n",
      "File \u001b[1;32m~\\AppData\\Local\\anaconda3\\Lib\\site-packages\\pandas\\io\\parsers\\readers.py:1026\u001b[0m, in \u001b[0;36mread_csv\u001b[1;34m(filepath_or_buffer, sep, delimiter, header, names, index_col, usecols, dtype, engine, converters, true_values, false_values, skipinitialspace, skiprows, skipfooter, nrows, na_values, keep_default_na, na_filter, verbose, skip_blank_lines, parse_dates, infer_datetime_format, keep_date_col, date_parser, date_format, dayfirst, cache_dates, iterator, chunksize, compression, thousands, decimal, lineterminator, quotechar, quoting, doublequote, escapechar, comment, encoding, encoding_errors, dialect, on_bad_lines, delim_whitespace, low_memory, memory_map, float_precision, storage_options, dtype_backend)\u001b[0m\n\u001b[0;32m   1013\u001b[0m kwds_defaults \u001b[38;5;241m=\u001b[39m _refine_defaults_read(\n\u001b[0;32m   1014\u001b[0m     dialect,\n\u001b[0;32m   1015\u001b[0m     delimiter,\n\u001b[1;32m   (...)\u001b[0m\n\u001b[0;32m   1022\u001b[0m     dtype_backend\u001b[38;5;241m=\u001b[39mdtype_backend,\n\u001b[0;32m   1023\u001b[0m )\n\u001b[0;32m   1024\u001b[0m kwds\u001b[38;5;241m.\u001b[39mupdate(kwds_defaults)\n\u001b[1;32m-> 1026\u001b[0m \u001b[38;5;28;01mreturn\u001b[39;00m _read(filepath_or_buffer, kwds)\n",
      "File \u001b[1;32m~\\AppData\\Local\\anaconda3\\Lib\\site-packages\\pandas\\io\\parsers\\readers.py:620\u001b[0m, in \u001b[0;36m_read\u001b[1;34m(filepath_or_buffer, kwds)\u001b[0m\n\u001b[0;32m    617\u001b[0m _validate_names(kwds\u001b[38;5;241m.\u001b[39mget(\u001b[38;5;124m\"\u001b[39m\u001b[38;5;124mnames\u001b[39m\u001b[38;5;124m\"\u001b[39m, \u001b[38;5;28;01mNone\u001b[39;00m))\n\u001b[0;32m    619\u001b[0m \u001b[38;5;66;03m# Create the parser.\u001b[39;00m\n\u001b[1;32m--> 620\u001b[0m parser \u001b[38;5;241m=\u001b[39m TextFileReader(filepath_or_buffer, \u001b[38;5;241m*\u001b[39m\u001b[38;5;241m*\u001b[39mkwds)\n\u001b[0;32m    622\u001b[0m \u001b[38;5;28;01mif\u001b[39;00m chunksize \u001b[38;5;129;01mor\u001b[39;00m iterator:\n\u001b[0;32m    623\u001b[0m     \u001b[38;5;28;01mreturn\u001b[39;00m parser\n",
      "File \u001b[1;32m~\\AppData\\Local\\anaconda3\\Lib\\site-packages\\pandas\\io\\parsers\\readers.py:1620\u001b[0m, in \u001b[0;36mTextFileReader.__init__\u001b[1;34m(self, f, engine, **kwds)\u001b[0m\n\u001b[0;32m   1617\u001b[0m     \u001b[38;5;28mself\u001b[39m\u001b[38;5;241m.\u001b[39moptions[\u001b[38;5;124m\"\u001b[39m\u001b[38;5;124mhas_index_names\u001b[39m\u001b[38;5;124m\"\u001b[39m] \u001b[38;5;241m=\u001b[39m kwds[\u001b[38;5;124m\"\u001b[39m\u001b[38;5;124mhas_index_names\u001b[39m\u001b[38;5;124m\"\u001b[39m]\n\u001b[0;32m   1619\u001b[0m \u001b[38;5;28mself\u001b[39m\u001b[38;5;241m.\u001b[39mhandles: IOHandles \u001b[38;5;241m|\u001b[39m \u001b[38;5;28;01mNone\u001b[39;00m \u001b[38;5;241m=\u001b[39m \u001b[38;5;28;01mNone\u001b[39;00m\n\u001b[1;32m-> 1620\u001b[0m \u001b[38;5;28mself\u001b[39m\u001b[38;5;241m.\u001b[39m_engine \u001b[38;5;241m=\u001b[39m \u001b[38;5;28mself\u001b[39m\u001b[38;5;241m.\u001b[39m_make_engine(f, \u001b[38;5;28mself\u001b[39m\u001b[38;5;241m.\u001b[39mengine)\n",
      "File \u001b[1;32m~\\AppData\\Local\\anaconda3\\Lib\\site-packages\\pandas\\io\\parsers\\readers.py:1880\u001b[0m, in \u001b[0;36mTextFileReader._make_engine\u001b[1;34m(self, f, engine)\u001b[0m\n\u001b[0;32m   1878\u001b[0m     \u001b[38;5;28;01mif\u001b[39;00m \u001b[38;5;124m\"\u001b[39m\u001b[38;5;124mb\u001b[39m\u001b[38;5;124m\"\u001b[39m \u001b[38;5;129;01mnot\u001b[39;00m \u001b[38;5;129;01min\u001b[39;00m mode:\n\u001b[0;32m   1879\u001b[0m         mode \u001b[38;5;241m+\u001b[39m\u001b[38;5;241m=\u001b[39m \u001b[38;5;124m\"\u001b[39m\u001b[38;5;124mb\u001b[39m\u001b[38;5;124m\"\u001b[39m\n\u001b[1;32m-> 1880\u001b[0m \u001b[38;5;28mself\u001b[39m\u001b[38;5;241m.\u001b[39mhandles \u001b[38;5;241m=\u001b[39m get_handle(\n\u001b[0;32m   1881\u001b[0m     f,\n\u001b[0;32m   1882\u001b[0m     mode,\n\u001b[0;32m   1883\u001b[0m     encoding\u001b[38;5;241m=\u001b[39m\u001b[38;5;28mself\u001b[39m\u001b[38;5;241m.\u001b[39moptions\u001b[38;5;241m.\u001b[39mget(\u001b[38;5;124m\"\u001b[39m\u001b[38;5;124mencoding\u001b[39m\u001b[38;5;124m\"\u001b[39m, \u001b[38;5;28;01mNone\u001b[39;00m),\n\u001b[0;32m   1884\u001b[0m     compression\u001b[38;5;241m=\u001b[39m\u001b[38;5;28mself\u001b[39m\u001b[38;5;241m.\u001b[39moptions\u001b[38;5;241m.\u001b[39mget(\u001b[38;5;124m\"\u001b[39m\u001b[38;5;124mcompression\u001b[39m\u001b[38;5;124m\"\u001b[39m, \u001b[38;5;28;01mNone\u001b[39;00m),\n\u001b[0;32m   1885\u001b[0m     memory_map\u001b[38;5;241m=\u001b[39m\u001b[38;5;28mself\u001b[39m\u001b[38;5;241m.\u001b[39moptions\u001b[38;5;241m.\u001b[39mget(\u001b[38;5;124m\"\u001b[39m\u001b[38;5;124mmemory_map\u001b[39m\u001b[38;5;124m\"\u001b[39m, \u001b[38;5;28;01mFalse\u001b[39;00m),\n\u001b[0;32m   1886\u001b[0m     is_text\u001b[38;5;241m=\u001b[39mis_text,\n\u001b[0;32m   1887\u001b[0m     errors\u001b[38;5;241m=\u001b[39m\u001b[38;5;28mself\u001b[39m\u001b[38;5;241m.\u001b[39moptions\u001b[38;5;241m.\u001b[39mget(\u001b[38;5;124m\"\u001b[39m\u001b[38;5;124mencoding_errors\u001b[39m\u001b[38;5;124m\"\u001b[39m, \u001b[38;5;124m\"\u001b[39m\u001b[38;5;124mstrict\u001b[39m\u001b[38;5;124m\"\u001b[39m),\n\u001b[0;32m   1888\u001b[0m     storage_options\u001b[38;5;241m=\u001b[39m\u001b[38;5;28mself\u001b[39m\u001b[38;5;241m.\u001b[39moptions\u001b[38;5;241m.\u001b[39mget(\u001b[38;5;124m\"\u001b[39m\u001b[38;5;124mstorage_options\u001b[39m\u001b[38;5;124m\"\u001b[39m, \u001b[38;5;28;01mNone\u001b[39;00m),\n\u001b[0;32m   1889\u001b[0m )\n\u001b[0;32m   1890\u001b[0m \u001b[38;5;28;01massert\u001b[39;00m \u001b[38;5;28mself\u001b[39m\u001b[38;5;241m.\u001b[39mhandles \u001b[38;5;129;01mis\u001b[39;00m \u001b[38;5;129;01mnot\u001b[39;00m \u001b[38;5;28;01mNone\u001b[39;00m\n\u001b[0;32m   1891\u001b[0m f \u001b[38;5;241m=\u001b[39m \u001b[38;5;28mself\u001b[39m\u001b[38;5;241m.\u001b[39mhandles\u001b[38;5;241m.\u001b[39mhandle\n",
      "File \u001b[1;32m~\\AppData\\Local\\anaconda3\\Lib\\site-packages\\pandas\\io\\common.py:873\u001b[0m, in \u001b[0;36mget_handle\u001b[1;34m(path_or_buf, mode, encoding, compression, memory_map, is_text, errors, storage_options)\u001b[0m\n\u001b[0;32m    868\u001b[0m \u001b[38;5;28;01melif\u001b[39;00m \u001b[38;5;28misinstance\u001b[39m(handle, \u001b[38;5;28mstr\u001b[39m):\n\u001b[0;32m    869\u001b[0m     \u001b[38;5;66;03m# Check whether the filename is to be opened in binary mode.\u001b[39;00m\n\u001b[0;32m    870\u001b[0m     \u001b[38;5;66;03m# Binary mode does not support 'encoding' and 'newline'.\u001b[39;00m\n\u001b[0;32m    871\u001b[0m     \u001b[38;5;28;01mif\u001b[39;00m ioargs\u001b[38;5;241m.\u001b[39mencoding \u001b[38;5;129;01mand\u001b[39;00m \u001b[38;5;124m\"\u001b[39m\u001b[38;5;124mb\u001b[39m\u001b[38;5;124m\"\u001b[39m \u001b[38;5;129;01mnot\u001b[39;00m \u001b[38;5;129;01min\u001b[39;00m ioargs\u001b[38;5;241m.\u001b[39mmode:\n\u001b[0;32m    872\u001b[0m         \u001b[38;5;66;03m# Encoding\u001b[39;00m\n\u001b[1;32m--> 873\u001b[0m         handle \u001b[38;5;241m=\u001b[39m \u001b[38;5;28mopen\u001b[39m(\n\u001b[0;32m    874\u001b[0m             handle,\n\u001b[0;32m    875\u001b[0m             ioargs\u001b[38;5;241m.\u001b[39mmode,\n\u001b[0;32m    876\u001b[0m             encoding\u001b[38;5;241m=\u001b[39mioargs\u001b[38;5;241m.\u001b[39mencoding,\n\u001b[0;32m    877\u001b[0m             errors\u001b[38;5;241m=\u001b[39merrors,\n\u001b[0;32m    878\u001b[0m             newline\u001b[38;5;241m=\u001b[39m\u001b[38;5;124m\"\u001b[39m\u001b[38;5;124m\"\u001b[39m,\n\u001b[0;32m    879\u001b[0m         )\n\u001b[0;32m    880\u001b[0m     \u001b[38;5;28;01melse\u001b[39;00m:\n\u001b[0;32m    881\u001b[0m         \u001b[38;5;66;03m# Binary mode\u001b[39;00m\n\u001b[0;32m    882\u001b[0m         handle \u001b[38;5;241m=\u001b[39m \u001b[38;5;28mopen\u001b[39m(handle, ioargs\u001b[38;5;241m.\u001b[39mmode)\n",
      "\u001b[1;31mFileNotFoundError\u001b[0m: [Errno 2] No such file or directory: 'Course_Materials/Course_Materials_Part1/Video_Lecture_NBs/summer1972.csv'"
     ]
    }
   ],
   "source": [
    "summer = pd.read_csv(\"Course_Materials/Course_Materials_Part1/Video_Lecture_NBs/summer1972.csv\")"
   ]
  },
  {
   "cell_type": "code",
   "execution_count": 41,
   "id": "d0539133-51e2-4e91-b5fd-a8ff4c5ddc52",
   "metadata": {},
   "outputs": [],
   "source": [
    "athlete = summer[\"Athlete\"]"
   ]
  },
  {
   "cell_type": "code",
   "execution_count": 42,
   "id": "197bd99d-65e1-4c20-a407-c6c296131bdd",
   "metadata": {},
   "outputs": [
    {
     "data": {
      "text/plain": [
       "dtype('O')"
      ]
     },
     "execution_count": 42,
     "metadata": {},
     "output_type": "execute_result"
    }
   ],
   "source": [
    "athlete.dtype"
   ]
  },
  {
   "cell_type": "code",
   "execution_count": 47,
   "id": "70b11bd5-ad62-408f-89db-7f642d351e2e",
   "metadata": {},
   "outputs": [
    {
     "data": {
      "text/plain": [
       "'AABYE, Edgar'"
      ]
     },
     "execution_count": 47,
     "metadata": {},
     "output_type": "execute_result"
    }
   ],
   "source": [
    "athlete.min()"
   ]
  },
  {
   "cell_type": "code",
   "execution_count": 48,
   "id": "5740de34-f5c7-4e12-a3cd-19abf9b6e111",
   "metadata": {},
   "outputs": [
    {
     "data": {
      "text/plain": [
       "Athlete\n",
       "PHELPS, Michael          22\n",
       "LATYNINA, Larisa         18\n",
       "ANDRIANOV, Nikolay       15\n",
       "ONO, Takashi             13\n",
       "MANGIAROTTI, Edoardo     13\n",
       "                         ..\n",
       "ZAKA, Uddin               1\n",
       "ZAFAR, Hayat              1\n",
       "MUHAMMAD, Rashid          1\n",
       "MANNA, Muhammad Afzal     1\n",
       "LIDBERG, Jimmy            1\n",
       "Name: count, Length: 22762, dtype: int64"
      ]
     },
     "execution_count": 48,
     "metadata": {},
     "output_type": "execute_result"
    }
   ],
   "source": [
    "athlete.value_counts()"
   ]
  },
  {
   "cell_type": "code",
   "execution_count": 58,
   "id": "0e98b88e-2118-4a2b-9df3-99b094b8f41e",
   "metadata": {},
   "outputs": [
    {
     "data": {
      "text/plain": [
       "22762"
      ]
     },
     "execution_count": 58,
     "metadata": {},
     "output_type": "execute_result"
    }
   ],
   "source": [
    "summer[\"Athlete\"].nunique()"
   ]
  },
  {
   "cell_type": "code",
   "execution_count": 6,
   "id": "7ab2f114-35c9-4a8e-877b-d992b7a0c001",
   "metadata": {},
   "outputs": [],
   "source": [
    "summer = pd.read_csv(\"Course_Materials/Course_Materials_Part1/Video_Lecture_NBs/summer.csv\",index_col=\"Country\")"
   ]
  },
  {
   "cell_type": "code",
   "execution_count": 61,
   "id": "2daa0aac-3396-41aa-b76c-827ae8745ab7",
   "metadata": {},
   "outputs": [
    {
     "data": {
      "text/html": [
       "<div>\n",
       "<style scoped>\n",
       "    .dataframe tbody tr th:only-of-type {\n",
       "        vertical-align: middle;\n",
       "    }\n",
       "\n",
       "    .dataframe tbody tr th {\n",
       "        vertical-align: top;\n",
       "    }\n",
       "\n",
       "    .dataframe thead th {\n",
       "        text-align: right;\n",
       "    }\n",
       "</style>\n",
       "<table border=\"1\" class=\"dataframe\">\n",
       "  <thead>\n",
       "    <tr style=\"text-align: right;\">\n",
       "      <th></th>\n",
       "      <th>Year</th>\n",
       "      <th>City</th>\n",
       "      <th>Sport</th>\n",
       "      <th>Discipline</th>\n",
       "      <th>Athlete</th>\n",
       "      <th>Gender</th>\n",
       "      <th>Event</th>\n",
       "      <th>Medal</th>\n",
       "    </tr>\n",
       "    <tr>\n",
       "      <th>Country</th>\n",
       "      <th></th>\n",
       "      <th></th>\n",
       "      <th></th>\n",
       "      <th></th>\n",
       "      <th></th>\n",
       "      <th></th>\n",
       "      <th></th>\n",
       "      <th></th>\n",
       "    </tr>\n",
       "  </thead>\n",
       "  <tbody>\n",
       "    <tr>\n",
       "      <th>HUN</th>\n",
       "      <td>1896</td>\n",
       "      <td>Athens</td>\n",
       "      <td>Aquatics</td>\n",
       "      <td>Swimming</td>\n",
       "      <td>HAJOS, Alfred</td>\n",
       "      <td>Men</td>\n",
       "      <td>100M Freestyle</td>\n",
       "      <td>Gold</td>\n",
       "    </tr>\n",
       "    <tr>\n",
       "      <th>AUT</th>\n",
       "      <td>1896</td>\n",
       "      <td>Athens</td>\n",
       "      <td>Aquatics</td>\n",
       "      <td>Swimming</td>\n",
       "      <td>HERSCHMANN, Otto</td>\n",
       "      <td>Men</td>\n",
       "      <td>100M Freestyle</td>\n",
       "      <td>Silver</td>\n",
       "    </tr>\n",
       "    <tr>\n",
       "      <th>GRE</th>\n",
       "      <td>1896</td>\n",
       "      <td>Athens</td>\n",
       "      <td>Aquatics</td>\n",
       "      <td>Swimming</td>\n",
       "      <td>DRIVAS, Dimitrios</td>\n",
       "      <td>Men</td>\n",
       "      <td>100M Freestyle For Sailors</td>\n",
       "      <td>Bronze</td>\n",
       "    </tr>\n",
       "    <tr>\n",
       "      <th>GRE</th>\n",
       "      <td>1896</td>\n",
       "      <td>Athens</td>\n",
       "      <td>Aquatics</td>\n",
       "      <td>Swimming</td>\n",
       "      <td>MALOKINIS, Ioannis</td>\n",
       "      <td>Men</td>\n",
       "      <td>100M Freestyle For Sailors</td>\n",
       "      <td>Gold</td>\n",
       "    </tr>\n",
       "    <tr>\n",
       "      <th>GRE</th>\n",
       "      <td>1896</td>\n",
       "      <td>Athens</td>\n",
       "      <td>Aquatics</td>\n",
       "      <td>Swimming</td>\n",
       "      <td>CHASAPIS, Spiridon</td>\n",
       "      <td>Men</td>\n",
       "      <td>100M Freestyle For Sailors</td>\n",
       "      <td>Silver</td>\n",
       "    </tr>\n",
       "  </tbody>\n",
       "</table>\n",
       "</div>"
      ],
      "text/plain": [
       "         Year    City     Sport Discipline             Athlete Gender  \\\n",
       "Country                                                                 \n",
       "HUN      1896  Athens  Aquatics   Swimming       HAJOS, Alfred    Men   \n",
       "AUT      1896  Athens  Aquatics   Swimming    HERSCHMANN, Otto    Men   \n",
       "GRE      1896  Athens  Aquatics   Swimming   DRIVAS, Dimitrios    Men   \n",
       "GRE      1896  Athens  Aquatics   Swimming  MALOKINIS, Ioannis    Men   \n",
       "GRE      1896  Athens  Aquatics   Swimming  CHASAPIS, Spiridon    Men   \n",
       "\n",
       "                              Event   Medal  \n",
       "Country                                      \n",
       "HUN                  100M Freestyle    Gold  \n",
       "AUT                  100M Freestyle  Silver  \n",
       "GRE      100M Freestyle For Sailors  Bronze  \n",
       "GRE      100M Freestyle For Sailors    Gold  \n",
       "GRE      100M Freestyle For Sailors  Silver  "
      ]
     },
     "execution_count": 61,
     "metadata": {},
     "output_type": "execute_result"
    }
   ],
   "source": [
    "summer.head()"
   ]
  },
  {
   "cell_type": "code",
   "execution_count": 70,
   "id": "b208acba-8ef2-48c3-8993-d30e1612c2b1",
   "metadata": {},
   "outputs": [
    {
     "data": {
      "text/plain": [
       "Country\n",
       "NED                 DROST, Johannes\n",
       "NED        BRANDT, Francois Antoine\n",
       "NED    BROCKMANN, Hermanus Gerardus\n",
       "NED                   KLEIN, Roelof\n",
       "NED          LEEGSTRA, Ruud Gerbens\n",
       "                   ...             \n",
       "NED             VEENHOVEN, Jacobine\n",
       "NED                 BERKHOUT, Lobke\n",
       "NED                 WESTERHOF, Lisa\n",
       "NED              BOUWMEESTER, Marit\n",
       "NED        VAN RIJSSELBERGE, Dorian\n",
       "Name: Athlete, Length: 851, dtype: object"
      ]
     },
     "execution_count": 70,
     "metadata": {},
     "output_type": "execute_result"
    }
   ],
   "source": [
    "summer[\"Athlete\"][\"NED\"]"
   ]
  },
  {
   "cell_type": "code",
   "execution_count": 1,
   "id": "defadd89-78c7-4434-b741-082155c018ce",
   "metadata": {},
   "outputs": [
    {
     "data": {
      "text/plain": [
       "{1: 10, 3: 25, 2: 6, 4: 36, 5: 2, 6: 0, 7: None}"
      ]
     },
     "execution_count": 1,
     "metadata": {},
     "output_type": "execute_result"
    }
   ],
   "source": [
    "dic = {1:10,3:25,2:6,4:36,5:2,6:0,7:None}\n",
    "dic"
   ]
  },
  {
   "cell_type": "code",
   "execution_count": 3,
   "id": "7eb69332-6b57-46b3-9e53-55cf677fbf3d",
   "metadata": {},
   "outputs": [],
   "source": [
    "sales = pd.Series(dic)"
   ]
  },
  {
   "cell_type": "code",
   "execution_count": 4,
   "id": "6f175ebc-abd9-41a0-96a5-f868e84ccc82",
   "metadata": {},
   "outputs": [
    {
     "data": {
      "text/plain": [
       "1    10.0\n",
       "3    25.0\n",
       "2     6.0\n",
       "4    36.0\n",
       "5     2.0\n",
       "6     0.0\n",
       "7     NaN\n",
       "dtype: float64"
      ]
     },
     "execution_count": 4,
     "metadata": {},
     "output_type": "execute_result"
    }
   ],
   "source": [
    "sales"
   ]
  },
  {
   "cell_type": "code",
   "execution_count": 5,
   "id": "69ca56a6-1458-414b-ba56-c45ec4166e8a",
   "metadata": {},
   "outputs": [
    {
     "ename": "NameError",
     "evalue": "name 'summer' is not defined",
     "output_type": "error",
     "traceback": [
      "\u001b[1;31m---------------------------------------------------------------------------\u001b[0m",
      "\u001b[1;31mNameError\u001b[0m                                 Traceback (most recent call last)",
      "Cell \u001b[1;32mIn[5], line 1\u001b[0m\n\u001b[1;32m----> 1\u001b[0m summer\n",
      "\u001b[1;31mNameError\u001b[0m: name 'summer' is not defined"
     ]
    }
   ],
   "source": [
    "summer"
   ]
  },
  {
   "cell_type": "code",
   "execution_count": 7,
   "id": "40d4a8b7-dae4-4650-9be4-17f0c2503cc4",
   "metadata": {},
   "outputs": [
    {
     "name": "stdout",
     "output_type": "stream",
     "text": [
      "<class 'pandas.core.frame.DataFrame'>\n",
      "Index: 31165 entries, HUN to SWE\n",
      "Data columns (total 8 columns):\n",
      " #   Column      Non-Null Count  Dtype \n",
      "---  ------      --------------  ----- \n",
      " 0   Year        31165 non-null  int64 \n",
      " 1   City        31165 non-null  object\n",
      " 2   Sport       31165 non-null  object\n",
      " 3   Discipline  31165 non-null  object\n",
      " 4   Athlete     31165 non-null  object\n",
      " 5   Gender      31165 non-null  object\n",
      " 6   Event       31165 non-null  object\n",
      " 7   Medal       31165 non-null  object\n",
      "dtypes: int64(1), object(7)\n",
      "memory usage: 2.1+ MB\n"
     ]
    }
   ],
   "source": [
    "summer.info()"
   ]
  },
  {
   "cell_type": "code",
   "execution_count": 10,
   "id": "e8a822fc-d097-4bb4-beb5-b6a9e5519ef6",
   "metadata": {},
   "outputs": [
    {
     "data": {
      "text/plain": [
       "Index(['Year', 'City', 'Sport', 'Discipline', 'Athlete', 'Gender', 'Event',\n",
       "       'Medal'],\n",
       "      dtype='object')"
      ]
     },
     "execution_count": 10,
     "metadata": {},
     "output_type": "execute_result"
    }
   ],
   "source": [
    "summer.columns"
   ]
  },
  {
   "cell_type": "code",
   "execution_count": 12,
   "id": "4113c718-d7ab-4f1e-96f2-fa1881011224",
   "metadata": {},
   "outputs": [
    {
     "data": {
      "text/plain": [
       "[Index(['HUN', 'AUT', 'GRE', 'GRE', 'GRE', 'GRE', 'HUN', 'GRE', 'GRE', 'AUT',\n",
       "        ...\n",
       "        'AZE', 'LTU', 'RUS', 'EGY', 'KAZ', 'POL', 'IRI', 'RUS', 'ARM', 'SWE'],\n",
       "       dtype='object', name='Country', length=31165),\n",
       " Index(['Year', 'City', 'Sport', 'Discipline', 'Athlete', 'Gender', 'Event',\n",
       "        'Medal'],\n",
       "       dtype='object')]"
      ]
     },
     "execution_count": 12,
     "metadata": {},
     "output_type": "execute_result"
    }
   ],
   "source": [
    "summer.axes"
   ]
  },
  {
   "cell_type": "code",
   "execution_count": 15,
   "id": "938fc340-41bc-4495-8eb1-12b8ca2f3ba6",
   "metadata": {},
   "outputs": [
    {
     "data": {
      "text/plain": [
       "<bound method DataFrame.nunique of          Year    City      Sport           Discipline  \\\n",
       "Country                                                 \n",
       "HUN      1896  Athens   Aquatics             Swimming   \n",
       "AUT      1896  Athens   Aquatics             Swimming   \n",
       "GRE      1896  Athens   Aquatics             Swimming   \n",
       "GRE      1896  Athens   Aquatics             Swimming   \n",
       "GRE      1896  Athens   Aquatics             Swimming   \n",
       "...       ...     ...        ...                  ...   \n",
       "POL      2012  London  Wrestling  Wrestling Freestyle   \n",
       "IRI      2012  London  Wrestling  Wrestling Freestyle   \n",
       "RUS      2012  London  Wrestling  Wrestling Freestyle   \n",
       "ARM      2012  London  Wrestling  Wrestling Freestyle   \n",
       "SWE      2012  London  Wrestling  Wrestling Freestyle   \n",
       "\n",
       "                           Athlete Gender                       Event   Medal  \n",
       "Country                                                                        \n",
       "HUN                  HAJOS, Alfred    Men              100M Freestyle    Gold  \n",
       "AUT               HERSCHMANN, Otto    Men              100M Freestyle  Silver  \n",
       "GRE              DRIVAS, Dimitrios    Men  100M Freestyle For Sailors  Bronze  \n",
       "GRE             MALOKINIS, Ioannis    Men  100M Freestyle For Sailors    Gold  \n",
       "GRE             CHASAPIS, Spiridon    Men  100M Freestyle For Sailors  Silver  \n",
       "...                            ...    ...                         ...     ...  \n",
       "POL             JANIKOWSKI, Damian    Men                    Wg 84 KG  Bronze  \n",
       "IRI      REZAEI, Ghasem Gholamreza    Men                    Wg 96 KG    Gold  \n",
       "RUS                 TOTROV, Rustam    Men                    Wg 96 KG  Silver  \n",
       "ARM              ALEKSANYAN, Artur    Men                    Wg 96 KG  Bronze  \n",
       "SWE                 LIDBERG, Jimmy    Men                    Wg 96 KG  Bronze  \n",
       "\n",
       "[31165 rows x 8 columns]>"
      ]
     },
     "execution_count": 15,
     "metadata": {},
     "output_type": "execute_result"
    }
   ],
   "source": [
    "summer."
   ]
  },
  {
   "cell_type": "code",
   "execution_count": 23,
   "id": "0583c63f-4987-415d-8c4f-28ed9e0950c7",
   "metadata": {},
   "outputs": [],
   "source": [
    "summer.reset_index(inplace=True)"
   ]
  },
  {
   "cell_type": "code",
   "execution_count": 24,
   "id": "ed7f6a43-007f-4228-b9e6-ef84c172864f",
   "metadata": {},
   "outputs": [
    {
     "data": {
      "text/html": [
       "<div>\n",
       "<style scoped>\n",
       "    .dataframe tbody tr th:only-of-type {\n",
       "        vertical-align: middle;\n",
       "    }\n",
       "\n",
       "    .dataframe tbody tr th {\n",
       "        vertical-align: top;\n",
       "    }\n",
       "\n",
       "    .dataframe thead th {\n",
       "        text-align: right;\n",
       "    }\n",
       "</style>\n",
       "<table border=\"1\" class=\"dataframe\">\n",
       "  <thead>\n",
       "    <tr style=\"text-align: right;\">\n",
       "      <th></th>\n",
       "      <th>Country</th>\n",
       "      <th>Year</th>\n",
       "      <th>City</th>\n",
       "      <th>Sport</th>\n",
       "      <th>Discipline</th>\n",
       "      <th>Athlete</th>\n",
       "      <th>Gender</th>\n",
       "      <th>Event</th>\n",
       "      <th>Medal</th>\n",
       "    </tr>\n",
       "  </thead>\n",
       "  <tbody>\n",
       "    <tr>\n",
       "      <th>0</th>\n",
       "      <td>HUN</td>\n",
       "      <td>1896</td>\n",
       "      <td>Athens</td>\n",
       "      <td>Aquatics</td>\n",
       "      <td>Swimming</td>\n",
       "      <td>HAJOS, Alfred</td>\n",
       "      <td>Men</td>\n",
       "      <td>100M Freestyle</td>\n",
       "      <td>Gold</td>\n",
       "    </tr>\n",
       "    <tr>\n",
       "      <th>1</th>\n",
       "      <td>AUT</td>\n",
       "      <td>1896</td>\n",
       "      <td>Athens</td>\n",
       "      <td>Aquatics</td>\n",
       "      <td>Swimming</td>\n",
       "      <td>HERSCHMANN, Otto</td>\n",
       "      <td>Men</td>\n",
       "      <td>100M Freestyle</td>\n",
       "      <td>Silver</td>\n",
       "    </tr>\n",
       "    <tr>\n",
       "      <th>2</th>\n",
       "      <td>GRE</td>\n",
       "      <td>1896</td>\n",
       "      <td>Athens</td>\n",
       "      <td>Aquatics</td>\n",
       "      <td>Swimming</td>\n",
       "      <td>DRIVAS, Dimitrios</td>\n",
       "      <td>Men</td>\n",
       "      <td>100M Freestyle For Sailors</td>\n",
       "      <td>Bronze</td>\n",
       "    </tr>\n",
       "    <tr>\n",
       "      <th>3</th>\n",
       "      <td>GRE</td>\n",
       "      <td>1896</td>\n",
       "      <td>Athens</td>\n",
       "      <td>Aquatics</td>\n",
       "      <td>Swimming</td>\n",
       "      <td>MALOKINIS, Ioannis</td>\n",
       "      <td>Men</td>\n",
       "      <td>100M Freestyle For Sailors</td>\n",
       "      <td>Gold</td>\n",
       "    </tr>\n",
       "    <tr>\n",
       "      <th>4</th>\n",
       "      <td>GRE</td>\n",
       "      <td>1896</td>\n",
       "      <td>Athens</td>\n",
       "      <td>Aquatics</td>\n",
       "      <td>Swimming</td>\n",
       "      <td>CHASAPIS, Spiridon</td>\n",
       "      <td>Men</td>\n",
       "      <td>100M Freestyle For Sailors</td>\n",
       "      <td>Silver</td>\n",
       "    </tr>\n",
       "  </tbody>\n",
       "</table>\n",
       "</div>"
      ],
      "text/plain": [
       "  Country  Year    City     Sport Discipline             Athlete Gender  \\\n",
       "0     HUN  1896  Athens  Aquatics   Swimming       HAJOS, Alfred    Men   \n",
       "1     AUT  1896  Athens  Aquatics   Swimming    HERSCHMANN, Otto    Men   \n",
       "2     GRE  1896  Athens  Aquatics   Swimming   DRIVAS, Dimitrios    Men   \n",
       "3     GRE  1896  Athens  Aquatics   Swimming  MALOKINIS, Ioannis    Men   \n",
       "4     GRE  1896  Athens  Aquatics   Swimming  CHASAPIS, Spiridon    Men   \n",
       "\n",
       "                        Event   Medal  \n",
       "0              100M Freestyle    Gold  \n",
       "1              100M Freestyle  Silver  \n",
       "2  100M Freestyle For Sailors  Bronze  \n",
       "3  100M Freestyle For Sailors    Gold  \n",
       "4  100M Freestyle For Sailors  Silver  "
      ]
     },
     "execution_count": 24,
     "metadata": {},
     "output_type": "execute_result"
    }
   ],
   "source": [
    "summer.head()"
   ]
  },
  {
   "cell_type": "code",
   "execution_count": 28,
   "id": "37b7e56c-78f7-489e-bd02-2aee3e9046f6",
   "metadata": {},
   "outputs": [
    {
     "data": {
      "text/html": [
       "<div>\n",
       "<style scoped>\n",
       "    .dataframe tbody tr th:only-of-type {\n",
       "        vertical-align: middle;\n",
       "    }\n",
       "\n",
       "    .dataframe tbody tr th {\n",
       "        vertical-align: top;\n",
       "    }\n",
       "\n",
       "    .dataframe thead th {\n",
       "        text-align: right;\n",
       "    }\n",
       "</style>\n",
       "<table border=\"1\" class=\"dataframe\">\n",
       "  <thead>\n",
       "    <tr style=\"text-align: right;\">\n",
       "      <th></th>\n",
       "      <th>Country</th>\n",
       "      <th>Year</th>\n",
       "      <th>City</th>\n",
       "      <th>Sport</th>\n",
       "      <th>Discipline</th>\n",
       "      <th>Athlete</th>\n",
       "      <th>Gender</th>\n",
       "      <th>Event</th>\n",
       "      <th>Medal</th>\n",
       "    </tr>\n",
       "  </thead>\n",
       "  <tbody>\n",
       "    <tr>\n",
       "      <th>3155</th>\n",
       "      <td>NED</td>\n",
       "      <td>1920</td>\n",
       "      <td>Antwerp</td>\n",
       "      <td>Cycling</td>\n",
       "      <td>Cycling Track</td>\n",
       "      <td>PEETERS, Mauritius</td>\n",
       "      <td>Men</td>\n",
       "      <td>Sprint Indivual</td>\n",
       "      <td>Gold</td>\n",
       "    </tr>\n",
       "    <tr>\n",
       "      <th>4400</th>\n",
       "      <td>NED</td>\n",
       "      <td>1924</td>\n",
       "      <td>Paris</td>\n",
       "      <td>Cycling</td>\n",
       "      <td>Cycling Track</td>\n",
       "      <td>WILLEMS, Jacobus</td>\n",
       "      <td>Men</td>\n",
       "      <td>50KM</td>\n",
       "      <td>Gold</td>\n",
       "    </tr>\n",
       "    <tr>\n",
       "      <th>5243</th>\n",
       "      <td>NED</td>\n",
       "      <td>1928</td>\n",
       "      <td>Amsterdam</td>\n",
       "      <td>Cycling</td>\n",
       "      <td>Cycling Track</td>\n",
       "      <td>LEENE, Bernardus Petrus</td>\n",
       "      <td>Men</td>\n",
       "      <td>2000M Tandem</td>\n",
       "      <td>Gold</td>\n",
       "    </tr>\n",
       "    <tr>\n",
       "      <th>5244</th>\n",
       "      <td>NED</td>\n",
       "      <td>1928</td>\n",
       "      <td>Amsterdam</td>\n",
       "      <td>Cycling</td>\n",
       "      <td>Cycling Track</td>\n",
       "      <td>VAN DIJK, Daniel (Daan)</td>\n",
       "      <td>Men</td>\n",
       "      <td>2000M Tandem</td>\n",
       "      <td>Gold</td>\n",
       "    </tr>\n",
       "    <tr>\n",
       "      <th>5962</th>\n",
       "      <td>NED</td>\n",
       "      <td>1932</td>\n",
       "      <td>Los Angeles</td>\n",
       "      <td>Cycling</td>\n",
       "      <td>Cycling Track</td>\n",
       "      <td>VAN EGMOND, Jacobus Johannes</td>\n",
       "      <td>Men</td>\n",
       "      <td>Sprint Indivual</td>\n",
       "      <td>Gold</td>\n",
       "    </tr>\n",
       "    <tr>\n",
       "      <th>6650</th>\n",
       "      <td>NED</td>\n",
       "      <td>1936</td>\n",
       "      <td>Berlin</td>\n",
       "      <td>Cycling</td>\n",
       "      <td>Cycling Track</td>\n",
       "      <td>VAN VLIET, Arie Gerrit</td>\n",
       "      <td>Men</td>\n",
       "      <td>1KM Time Trial</td>\n",
       "      <td>Gold</td>\n",
       "    </tr>\n",
       "    <tr>\n",
       "      <th>11076</th>\n",
       "      <td>NED</td>\n",
       "      <td>1964</td>\n",
       "      <td>Tokyo</td>\n",
       "      <td>Cycling</td>\n",
       "      <td>Cycling Road</td>\n",
       "      <td>DOLMAN, Evert Gerardus</td>\n",
       "      <td>Men</td>\n",
       "      <td>Team Time Trial</td>\n",
       "      <td>Gold</td>\n",
       "    </tr>\n",
       "    <tr>\n",
       "      <th>11077</th>\n",
       "      <td>NED</td>\n",
       "      <td>1964</td>\n",
       "      <td>Tokyo</td>\n",
       "      <td>Cycling</td>\n",
       "      <td>Cycling Road</td>\n",
       "      <td>KARSTENS, Gerben</td>\n",
       "      <td>Men</td>\n",
       "      <td>Team Time Trial</td>\n",
       "      <td>Gold</td>\n",
       "    </tr>\n",
       "    <tr>\n",
       "      <th>11078</th>\n",
       "      <td>NED</td>\n",
       "      <td>1964</td>\n",
       "      <td>Tokyo</td>\n",
       "      <td>Cycling</td>\n",
       "      <td>Cycling Road</td>\n",
       "      <td>PIETERSE, Johannes Aloysius</td>\n",
       "      <td>Men</td>\n",
       "      <td>Team Time Trial</td>\n",
       "      <td>Gold</td>\n",
       "    </tr>\n",
       "    <tr>\n",
       "      <th>11079</th>\n",
       "      <td>NED</td>\n",
       "      <td>1964</td>\n",
       "      <td>Tokyo</td>\n",
       "      <td>Cycling</td>\n",
       "      <td>Cycling Road</td>\n",
       "      <td>ZOET, Hubertus Balthazar</td>\n",
       "      <td>Men</td>\n",
       "      <td>Team Time Trial</td>\n",
       "      <td>Gold</td>\n",
       "    </tr>\n",
       "    <tr>\n",
       "      <th>12122</th>\n",
       "      <td>NED</td>\n",
       "      <td>1968</td>\n",
       "      <td>Mexico</td>\n",
       "      <td>Cycling</td>\n",
       "      <td>Cycling Road</td>\n",
       "      <td>DEN HERTOG, Fedor</td>\n",
       "      <td>Men</td>\n",
       "      <td>Team Time Trial</td>\n",
       "      <td>Gold</td>\n",
       "    </tr>\n",
       "    <tr>\n",
       "      <th>12123</th>\n",
       "      <td>NED</td>\n",
       "      <td>1968</td>\n",
       "      <td>Mexico</td>\n",
       "      <td>Cycling</td>\n",
       "      <td>Cycling Road</td>\n",
       "      <td>KREKELS, Jan Jozef Alfons</td>\n",
       "      <td>Men</td>\n",
       "      <td>Team Time Trial</td>\n",
       "      <td>Gold</td>\n",
       "    </tr>\n",
       "    <tr>\n",
       "      <th>12124</th>\n",
       "      <td>NED</td>\n",
       "      <td>1968</td>\n",
       "      <td>Mexico</td>\n",
       "      <td>Cycling</td>\n",
       "      <td>Cycling Road</td>\n",
       "      <td>PIJNEN, Rene Marinus</td>\n",
       "      <td>Men</td>\n",
       "      <td>Team Time Trial</td>\n",
       "      <td>Gold</td>\n",
       "    </tr>\n",
       "    <tr>\n",
       "      <th>12125</th>\n",
       "      <td>NED</td>\n",
       "      <td>1968</td>\n",
       "      <td>Mexico</td>\n",
       "      <td>Cycling</td>\n",
       "      <td>Cycling Road</td>\n",
       "      <td>ZOETEMELK, Hendrik G. Jozef</td>\n",
       "      <td>Men</td>\n",
       "      <td>Team Time Trial</td>\n",
       "      <td>Gold</td>\n",
       "    </tr>\n",
       "    <tr>\n",
       "      <th>13182</th>\n",
       "      <td>NED</td>\n",
       "      <td>1972</td>\n",
       "      <td>Munich</td>\n",
       "      <td>Cycling</td>\n",
       "      <td>Cycling Road</td>\n",
       "      <td>KUIPER, Hennie</td>\n",
       "      <td>Men</td>\n",
       "      <td>Individual Road Race</td>\n",
       "      <td>Gold</td>\n",
       "    </tr>\n",
       "    <tr>\n",
       "      <th>18633</th>\n",
       "      <td>NED</td>\n",
       "      <td>1988</td>\n",
       "      <td>Seoul</td>\n",
       "      <td>Cycling</td>\n",
       "      <td>Cycling Road</td>\n",
       "      <td>KNOL, Monique</td>\n",
       "      <td>Women</td>\n",
       "      <td>Individual Road Race</td>\n",
       "      <td>Gold</td>\n",
       "    </tr>\n",
       "    <tr>\n",
       "      <th>22103</th>\n",
       "      <td>NED</td>\n",
       "      <td>1996</td>\n",
       "      <td>Atlanta</td>\n",
       "      <td>Cycling</td>\n",
       "      <td>Mountain Bike</td>\n",
       "      <td>BRENTJENS, Bart</td>\n",
       "      <td>Men</td>\n",
       "      <td>Cross-Country</td>\n",
       "      <td>Gold</td>\n",
       "    </tr>\n",
       "    <tr>\n",
       "      <th>24002</th>\n",
       "      <td>NED</td>\n",
       "      <td>2000</td>\n",
       "      <td>Sydney</td>\n",
       "      <td>Cycling</td>\n",
       "      <td>Cycling Road</td>\n",
       "      <td>ZIJLAARD-VAN MOORSEL, Leontien</td>\n",
       "      <td>Women</td>\n",
       "      <td>Individual Road Race</td>\n",
       "      <td>Gold</td>\n",
       "    </tr>\n",
       "    <tr>\n",
       "      <th>24008</th>\n",
       "      <td>NED</td>\n",
       "      <td>2000</td>\n",
       "      <td>Sydney</td>\n",
       "      <td>Cycling</td>\n",
       "      <td>Cycling Road</td>\n",
       "      <td>ZIJLAARD-VAN MOORSEL, Leontien</td>\n",
       "      <td>Women</td>\n",
       "      <td>Individual Time Trial</td>\n",
       "      <td>Gold</td>\n",
       "    </tr>\n",
       "    <tr>\n",
       "      <th>24020</th>\n",
       "      <td>NED</td>\n",
       "      <td>2000</td>\n",
       "      <td>Sydney</td>\n",
       "      <td>Cycling</td>\n",
       "      <td>Cycling Track</td>\n",
       "      <td>ZIJLAARD-VAN MOORSEL, Leontien</td>\n",
       "      <td>Women</td>\n",
       "      <td>Individual Pursuit</td>\n",
       "      <td>Gold</td>\n",
       "    </tr>\n",
       "    <tr>\n",
       "      <th>26018</th>\n",
       "      <td>NED</td>\n",
       "      <td>2004</td>\n",
       "      <td>Athens</td>\n",
       "      <td>Cycling</td>\n",
       "      <td>Cycling Road</td>\n",
       "      <td>ZIJLAARD-VAN MOORSEL, Leontien</td>\n",
       "      <td>Women</td>\n",
       "      <td>Individual Time Trial</td>\n",
       "      <td>Gold</td>\n",
       "    </tr>\n",
       "    <tr>\n",
       "      <th>28054</th>\n",
       "      <td>NED</td>\n",
       "      <td>2008</td>\n",
       "      <td>Beijing</td>\n",
       "      <td>Cycling</td>\n",
       "      <td>Cycling Track</td>\n",
       "      <td>VOS, Marianne</td>\n",
       "      <td>Women</td>\n",
       "      <td>Points Race</td>\n",
       "      <td>Gold</td>\n",
       "    </tr>\n",
       "    <tr>\n",
       "      <th>30010</th>\n",
       "      <td>NED</td>\n",
       "      <td>2012</td>\n",
       "      <td>London</td>\n",
       "      <td>Cycling</td>\n",
       "      <td>Cycling Road</td>\n",
       "      <td>VOS, Marianne</td>\n",
       "      <td>Women</td>\n",
       "      <td>Individual Road</td>\n",
       "      <td>Gold</td>\n",
       "    </tr>\n",
       "  </tbody>\n",
       "</table>\n",
       "</div>"
      ],
      "text/plain": [
       "      Country  Year         City    Sport     Discipline  \\\n",
       "3155      NED  1920      Antwerp  Cycling  Cycling Track   \n",
       "4400      NED  1924        Paris  Cycling  Cycling Track   \n",
       "5243      NED  1928    Amsterdam  Cycling  Cycling Track   \n",
       "5244      NED  1928    Amsterdam  Cycling  Cycling Track   \n",
       "5962      NED  1932  Los Angeles  Cycling  Cycling Track   \n",
       "6650      NED  1936       Berlin  Cycling  Cycling Track   \n",
       "11076     NED  1964        Tokyo  Cycling   Cycling Road   \n",
       "11077     NED  1964        Tokyo  Cycling   Cycling Road   \n",
       "11078     NED  1964        Tokyo  Cycling   Cycling Road   \n",
       "11079     NED  1964        Tokyo  Cycling   Cycling Road   \n",
       "12122     NED  1968       Mexico  Cycling   Cycling Road   \n",
       "12123     NED  1968       Mexico  Cycling   Cycling Road   \n",
       "12124     NED  1968       Mexico  Cycling   Cycling Road   \n",
       "12125     NED  1968       Mexico  Cycling   Cycling Road   \n",
       "13182     NED  1972       Munich  Cycling   Cycling Road   \n",
       "18633     NED  1988        Seoul  Cycling   Cycling Road   \n",
       "22103     NED  1996      Atlanta  Cycling  Mountain Bike   \n",
       "24002     NED  2000       Sydney  Cycling   Cycling Road   \n",
       "24008     NED  2000       Sydney  Cycling   Cycling Road   \n",
       "24020     NED  2000       Sydney  Cycling  Cycling Track   \n",
       "26018     NED  2004       Athens  Cycling   Cycling Road   \n",
       "28054     NED  2008      Beijing  Cycling  Cycling Track   \n",
       "30010     NED  2012       London  Cycling   Cycling Road   \n",
       "\n",
       "                              Athlete Gender                  Event Medal  \n",
       "3155               PEETERS, Mauritius    Men        Sprint Indivual  Gold  \n",
       "4400                 WILLEMS, Jacobus    Men                   50KM  Gold  \n",
       "5243          LEENE, Bernardus Petrus    Men           2000M Tandem  Gold  \n",
       "5244          VAN DIJK, Daniel (Daan)    Men           2000M Tandem  Gold  \n",
       "5962     VAN EGMOND, Jacobus Johannes    Men        Sprint Indivual  Gold  \n",
       "6650           VAN VLIET, Arie Gerrit    Men         1KM Time Trial  Gold  \n",
       "11076          DOLMAN, Evert Gerardus    Men        Team Time Trial  Gold  \n",
       "11077                KARSTENS, Gerben    Men        Team Time Trial  Gold  \n",
       "11078     PIETERSE, Johannes Aloysius    Men        Team Time Trial  Gold  \n",
       "11079        ZOET, Hubertus Balthazar    Men        Team Time Trial  Gold  \n",
       "12122               DEN HERTOG, Fedor    Men        Team Time Trial  Gold  \n",
       "12123       KREKELS, Jan Jozef Alfons    Men        Team Time Trial  Gold  \n",
       "12124            PIJNEN, Rene Marinus    Men        Team Time Trial  Gold  \n",
       "12125     ZOETEMELK, Hendrik G. Jozef    Men        Team Time Trial  Gold  \n",
       "13182                  KUIPER, Hennie    Men   Individual Road Race  Gold  \n",
       "18633                   KNOL, Monique  Women   Individual Road Race  Gold  \n",
       "22103                 BRENTJENS, Bart    Men          Cross-Country  Gold  \n",
       "24002  ZIJLAARD-VAN MOORSEL, Leontien  Women   Individual Road Race  Gold  \n",
       "24008  ZIJLAARD-VAN MOORSEL, Leontien  Women  Individual Time Trial  Gold  \n",
       "24020  ZIJLAARD-VAN MOORSEL, Leontien  Women     Individual Pursuit  Gold  \n",
       "26018  ZIJLAARD-VAN MOORSEL, Leontien  Women  Individual Time Trial  Gold  \n",
       "28054                   VOS, Marianne  Women            Points Race  Gold  \n",
       "30010                   VOS, Marianne  Women        Individual Road  Gold  "
      ]
     },
     "execution_count": 28,
     "metadata": {},
     "output_type": "execute_result"
    }
   ],
   "source": [
    "summer.loc[(summer.Medal==\"Gold\") & (summer.Country ==\"NED\")& (summer.Sport == \"Cycling\")]"
   ]
  },
  {
   "cell_type": "code",
   "execution_count": 35,
   "id": "485716fa-336c-40b6-b406-5394c163e807",
   "metadata": {},
   "outputs": [
    {
     "data": {
      "text/plain": [
       "True"
      ]
     },
     "execution_count": 35,
     "metadata": {},
     "output_type": "execute_result"
    }
   ],
   "source": [
    "(summer.Medal.loc[(summer.Country=='ARG')]=='Gold').any()"
   ]
  },
  {
   "cell_type": "code",
   "execution_count": 4,
   "id": "a5872c6a-e0c7-438a-85f9-e615617e0241",
   "metadata": {},
   "outputs": [],
   "source": [
    "index_babies = titanic[titanic.age<1].index"
   ]
  },
  {
   "cell_type": "code",
   "execution_count": 5,
   "id": "6e8c886c-c1ed-473c-8684-5965dc378de4",
   "metadata": {},
   "outputs": [],
   "source": [
    "age = titanic.age"
   ]
  },
  {
   "cell_type": "code",
   "execution_count": 9,
   "id": "a3392715-8cd2-4c35-8575-115c03fe332f",
   "metadata": {},
   "outputs": [
    {
     "data": {
      "text/plain": [
       "True"
      ]
     },
     "execution_count": 9,
     "metadata": {},
     "output_type": "execute_result"
    }
   ],
   "source": [
    "age._is_copy is None"
   ]
  },
  {
   "cell_type": "code",
   "execution_count": null,
   "id": "97facc31-89ee-4114-ae0c-f2944273a01f",
   "metadata": {},
   "outputs": [],
   "source": []
  }
 ],
 "metadata": {
  "kernelspec": {
   "display_name": "Python 3 (ipykernel)",
   "language": "python",
   "name": "python3"
  },
  "language_info": {
   "codemirror_mode": {
    "name": "ipython",
    "version": 3
   },
   "file_extension": ".py",
   "mimetype": "text/x-python",
   "name": "python",
   "nbconvert_exporter": "python",
   "pygments_lexer": "ipython3",
   "version": "3.12.7"
  }
 },
 "nbformat": 4,
 "nbformat_minor": 5
}
