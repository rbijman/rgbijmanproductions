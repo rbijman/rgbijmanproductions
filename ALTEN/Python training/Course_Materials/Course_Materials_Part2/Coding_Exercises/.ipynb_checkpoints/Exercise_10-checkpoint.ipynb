{
 "cells": [
  {
   "cell_type": "markdown",
   "metadata": {},
   "source": [
    "# Coding Exercises (Part 2)"
   ]
  },
  {
   "cell_type": "markdown",
   "metadata": {},
   "source": [
    "## Full Data Workflow A-Z: Importing Data"
   ]
  },
  {
   "cell_type": "markdown",
   "metadata": {},
   "source": [
    "### Exercise 10: Importing Data from messy csv-files"
   ]
  },
  {
   "cell_type": "markdown",
   "metadata": {},
   "source": [
    "Now, you will have the opportunity to analyze your own dataset. <br>\n",
    "__Follow the instructions__ and insert your code! You are either requested to \n",
    "- Complete the Code and __Fill in the gaps__. Gaps are marked with \"__---__\" and are __placeholders__ for your code fragment. \n",
    "- Write Code completely __on your own__ "
   ]
  },
  {
   "cell_type": "markdown",
   "metadata": {},
   "source": [
    "In some exercises, you will find questions that can only be answered, if your code is correct and returns the right output! The correct answer is provided below your coding cell. There you can check whether your code is correct."
   ]
  },
  {
   "cell_type": "markdown",
   "metadata": {},
   "source": [
    "If you need a hint, check the __Hints Section__ at the end of this Notebook. Exercises and Hints are numerated accordingly."
   ]
  },
  {
   "cell_type": "markdown",
   "metadata": {},
   "source": [
    "If you need some further help or if you want to check your code, you can also check the __solutions notebook__."
   ]
  },
  {
   "cell_type": "markdown",
   "metadata": {},
   "source": [
    "### Have Fun!"
   ]
  },
  {
   "cell_type": "markdown",
   "metadata": {},
   "source": [
    "--------------------------------------------------------------------------------------------------------------"
   ]
  },
  {
   "cell_type": "markdown",
   "metadata": {},
   "source": [
    "## Option 1: Self_guided"
   ]
  },
  {
   "cell_type": "markdown",
   "metadata": {},
   "source": [
    "__Import__ the cars Dataset from the messy csv-file __cars_raw.csv__ into a Pandas DataFrame. Use appropriate __parameters__ in the __pd.read_csv()__ method to bring the DataFrame into a clean format. __Columns__ should have the following __labels__:"
   ]
  },
  {
   "cell_type": "code",
   "execution_count": 2,
   "metadata": {},
   "outputs": [],
   "source": [
    "import pandas as pd"
   ]
  },
  {
   "cell_type": "code",
   "execution_count": 1,
   "metadata": {},
   "outputs": [],
   "source": [
    "labels = ['mpg',\n",
    " 'cylinders',\n",
    " 'displacement',\n",
    " 'horsepower',\n",
    " 'weight',\n",
    " 'acceleration',\n",
    " 'model year',\n",
    " 'origin',\n",
    " 'name']"
   ]
  },
  {
   "cell_type": "code",
   "execution_count": 11,
   "metadata": {},
   "outputs": [
    {
     "name": "stderr",
     "output_type": "stream",
     "text": [
      "C:\\Users\\rbijman\\AppData\\Local\\Temp\\ipykernel_34908\\2418197856.py:1: ParserWarning: Falling back to the 'python' engine because the 'c' engine does not support skipfooter; you can avoid this warning by specifying engine='python'.\n",
      "  cars = pd.read_csv('cars_raw.csv',header=None,skiprows=2,names=labels,skipfooter=1)\n"
     ]
    },
    {
     "data": {
      "text/html": [
       "<div>\n",
       "<style scoped>\n",
       "    .dataframe tbody tr th:only-of-type {\n",
       "        vertical-align: middle;\n",
       "    }\n",
       "\n",
       "    .dataframe tbody tr th {\n",
       "        vertical-align: top;\n",
       "    }\n",
       "\n",
       "    .dataframe thead th {\n",
       "        text-align: right;\n",
       "    }\n",
       "</style>\n",
       "<table border=\"1\" class=\"dataframe\">\n",
       "  <thead>\n",
       "    <tr style=\"text-align: right;\">\n",
       "      <th></th>\n",
       "      <th>mpg</th>\n",
       "      <th>cylinders</th>\n",
       "      <th>displacement</th>\n",
       "      <th>horsepower</th>\n",
       "      <th>weight</th>\n",
       "      <th>acceleration</th>\n",
       "      <th>model year</th>\n",
       "      <th>origin</th>\n",
       "      <th>name</th>\n",
       "    </tr>\n",
       "  </thead>\n",
       "  <tbody>\n",
       "    <tr>\n",
       "      <th>324</th>\n",
       "      <td>12.0</td>\n",
       "      <td>8</td>\n",
       "      <td>429.0</td>\n",
       "      <td>198.0 hp</td>\n",
       "      <td>4952</td>\n",
       "      <td>11.5</td>\n",
       "      <td>73</td>\n",
       "      <td>usa</td>\n",
       "      <td>mercury marquis brougham</td>\n",
       "    </tr>\n",
       "    <tr>\n",
       "      <th>325</th>\n",
       "      <td>27.0</td>\n",
       "      <td>4</td>\n",
       "      <td>101.0</td>\n",
       "      <td>83.0 hp</td>\n",
       "      <td>2202</td>\n",
       "      <td>15.3</td>\n",
       "      <td>76</td>\n",
       "      <td>europe</td>\n",
       "      <td>renault 12tl</td>\n",
       "    </tr>\n",
       "    <tr>\n",
       "      <th>326</th>\n",
       "      <td>17.0</td>\n",
       "      <td>6</td>\n",
       "      <td>250.0</td>\n",
       "      <td>100.0 hp</td>\n",
       "      <td>3329</td>\n",
       "      <td>15.5</td>\n",
       "      <td>71</td>\n",
       "      <td>usa</td>\n",
       "      <td>chevrolet chevelle malibu</td>\n",
       "    </tr>\n",
       "    <tr>\n",
       "      <th>327</th>\n",
       "      <td>14.5</td>\n",
       "      <td>8</td>\n",
       "      <td>351.0</td>\n",
       "      <td>152.0 hp</td>\n",
       "      <td>4215</td>\n",
       "      <td>12.8</td>\n",
       "      <td>76</td>\n",
       "      <td>usa</td>\n",
       "      <td>ford gran torino</td>\n",
       "    </tr>\n",
       "    <tr>\n",
       "      <th>328</th>\n",
       "      <td>25.0</td>\n",
       "      <td>6</td>\n",
       "      <td>181.0</td>\n",
       "      <td>110.0 hp</td>\n",
       "      <td>2945</td>\n",
       "      <td>16.4</td>\n",
       "      <td>82</td>\n",
       "      <td>usa</td>\n",
       "      <td>buick century limited</td>\n",
       "    </tr>\n",
       "  </tbody>\n",
       "</table>\n",
       "</div>"
      ],
      "text/plain": [
       "      mpg  cylinders  displacement horsepower  weight  acceleration  \\\n",
       "324  12.0          8         429.0   198.0 hp    4952          11.5   \n",
       "325  27.0          4         101.0    83.0 hp    2202          15.3   \n",
       "326  17.0          6         250.0   100.0 hp    3329          15.5   \n",
       "327  14.5          8         351.0   152.0 hp    4215          12.8   \n",
       "328  25.0          6         181.0   110.0 hp    2945          16.4   \n",
       "\n",
       "     model year  origin                          name  \n",
       "324          73     usa     mercury marquis brougham   \n",
       "325          76  europe                 renault 12tl   \n",
       "326          71     usa    chevrolet chevelle malibu   \n",
       "327          76     usa             ford gran torino   \n",
       "328          82     usa        buick century limited   "
      ]
     },
     "execution_count": 11,
     "metadata": {},
     "output_type": "execute_result"
    }
   ],
   "source": [
    "cars = pd.read_csv('cars_raw.csv',header=None,skiprows=2,names=labels,skipfooter=1)\n",
    "cars.tail()"
   ]
  },
  {
   "cell_type": "code",
   "execution_count": 9,
   "metadata": {},
   "outputs": [],
   "source": [
    "cars.to_csv('cars_imp.csv')"
   ]
  },
  {
   "cell_type": "code",
   "execution_count": null,
   "metadata": {},
   "outputs": [],
   "source": []
  },
  {
   "cell_type": "markdown",
   "metadata": {},
   "source": [
    "Finally, __save__ and __export__ the dataset as new csv-file (__cars_imp.csv__)."
   ]
  },
  {
   "cell_type": "markdown",
   "metadata": {},
   "source": [
    "--------------------------------"
   ]
  },
  {
   "cell_type": "markdown",
   "metadata": {},
   "source": [
    "## Option 2: Guided and Instructed"
   ]
  },
  {
   "cell_type": "markdown",
   "metadata": {},
   "source": [
    "# STOP HERE, IF YOU WANT TO DO THE EXERCISE ON YOUR OWN!"
   ]
  },
  {
   "cell_type": "markdown",
   "metadata": {},
   "source": [
    "+++++++++++++++++++++++++++++++++++++++++++++++++++++++++++++++++++++++++++++++++++++++++++++++++++++++++++++++++++++++++"
   ]
  },
  {
   "cell_type": "markdown",
   "metadata": {},
   "source": [
    "77. __Import__ Pandas (pd)!"
   ]
  },
  {
   "cell_type": "code",
   "execution_count": null,
   "metadata": {},
   "outputs": [],
   "source": []
  },
  {
   "cell_type": "markdown",
   "metadata": {},
   "source": [
    "78. __Import__ the csv-file __cars_raw.csv__ with the appropriate pandas method and __inspect__ the data!"
   ]
  },
  {
   "cell_type": "code",
   "execution_count": null,
   "metadata": {
    "scrolled": true
   },
   "outputs": [],
   "source": []
  },
  {
   "cell_type": "markdown",
   "metadata": {},
   "source": [
    "Use appropriate __parameters__ in the __pd.read_csv()__ method to clean the format. The following issues need to be solved:"
   ]
  },
  {
   "cell_type": "markdown",
   "metadata": {},
   "source": [
    "79. __Remove__ the __first row(s)__ containing nonsense content."
   ]
  },
  {
   "cell_type": "markdown",
   "metadata": {},
   "source": [
    "80. __Remove__ the __last row(s)__ containing nonsense content."
   ]
  },
  {
   "cell_type": "markdown",
   "metadata": {},
   "source": [
    "81. Define that there are __no appropriate column labels/headers__ in the data. "
   ]
  },
  {
   "cell_type": "markdown",
   "metadata": {},
   "source": [
    "82. __Set__ the following __column labels/headers__:"
   ]
  },
  {
   "cell_type": "code",
   "execution_count": null,
   "metadata": {},
   "outputs": [],
   "source": [
    "labels = ['mpg',\n",
    " 'cylinders',\n",
    " 'displacement',\n",
    " 'horsepower',\n",
    " 'weight',\n",
    " 'acceleration',\n",
    " 'model year',\n",
    " 'origin',\n",
    " 'name']"
   ]
  },
  {
   "cell_type": "code",
   "execution_count": null,
   "metadata": {
    "scrolled": true
   },
   "outputs": [],
   "source": [
    "#complete the code and run the cell!\n",
    "pd.read_csv(---)"
   ]
  },
  {
   "cell_type": "markdown",
   "metadata": {},
   "source": [
    "83. Once you are happy with the import, __save__ the DataFrame in the variable __cars__!"
   ]
  },
  {
   "cell_type": "code",
   "execution_count": null,
   "metadata": {
    "scrolled": true
   },
   "outputs": [],
   "source": [
    "#complete the code and run the cell!\n",
    "cars = pd.read_csv(---)"
   ]
  },
  {
   "cell_type": "code",
   "execution_count": null,
   "metadata": {},
   "outputs": [],
   "source": [
    "# run the cell!\n",
    "cars.head()"
   ]
  },
  {
   "cell_type": "code",
   "execution_count": null,
   "metadata": {},
   "outputs": [],
   "source": [
    "# run the cell!\n",
    "cars.tail()"
   ]
  },
  {
   "cell_type": "markdown",
   "metadata": {},
   "source": [
    "84. __Export__ and __save__ cars as new csv-file (__cars_imp.csv__). Do __not__ export any __RangeIndex__!"
   ]
  },
  {
   "cell_type": "code",
   "execution_count": null,
   "metadata": {},
   "outputs": [],
   "source": []
  },
  {
   "cell_type": "markdown",
   "metadata": {},
   "source": [
    "__Reimport__ cars_imp.csv and check!"
   ]
  },
  {
   "cell_type": "code",
   "execution_count": null,
   "metadata": {
    "scrolled": true
   },
   "outputs": [],
   "source": [
    "#run the cell!\n",
    "pd.read_csv(\"cars_imp.csv\")"
   ]
  },
  {
   "cell_type": "markdown",
   "metadata": {},
   "source": [
    "# Well Done!"
   ]
  },
  {
   "cell_type": "markdown",
   "metadata": {},
   "source": [
    "----------------------------"
   ]
  },
  {
   "cell_type": "markdown",
   "metadata": {},
   "source": [
    "# Hints (Spoiler!)"
   ]
  },
  {
   "cell_type": "markdown",
   "metadata": {},
   "source": [
    "77. at this point, you should know this ;-) !"
   ]
  },
  {
   "cell_type": "markdown",
   "metadata": {},
   "source": [
    "78. pd.read_csv(\"filename\")"
   ]
  },
  {
   "cell_type": "markdown",
   "metadata": {},
   "source": [
    "79. parameter skiprows"
   ]
  },
  {
   "cell_type": "markdown",
   "metadata": {},
   "source": [
    "80. parameter skipfooter"
   ]
  },
  {
   "cell_type": "markdown",
   "metadata": {},
   "source": [
    "81. header = N---"
   ]
  },
  {
   "cell_type": "markdown",
   "metadata": {},
   "source": [
    "82. parameter names"
   ]
  },
  {
   "cell_type": "markdown",
   "metadata": {},
   "source": [
    "83. see hints 79-82"
   ]
  },
  {
   "cell_type": "markdown",
   "metadata": {},
   "source": [
    "84. to_csv() method"
   ]
  }
 ],
 "metadata": {
  "kernelspec": {
   "display_name": "Python 3 (ipykernel)",
   "language": "python",
   "name": "python3"
  },
  "language_info": {
   "codemirror_mode": {
    "name": "ipython",
    "version": 3
   },
   "file_extension": ".py",
   "mimetype": "text/x-python",
   "name": "python",
   "nbconvert_exporter": "python",
   "pygments_lexer": "ipython3",
   "version": "3.12.7"
  }
 },
 "nbformat": 4,
 "nbformat_minor": 4
}
